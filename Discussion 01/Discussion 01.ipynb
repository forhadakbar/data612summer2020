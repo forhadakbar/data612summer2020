{
 "cells": [
  {
   "cell_type": "markdown",
   "metadata": {},
   "source": [
    "# Instruction\n",
    "Please complete the research discussion assignment in a Jupyter or R Markdown notebook. You should post the GitHub link to your research in a new discussion thread.\n",
    "\n",
    "Now that we have covered basic techniques for recommender systems, choose one commercial recommender and describe how you think it works (content-based, collaborative filtering, etc). Does the technique deliver a good experience or are the recommendations off-target?\n",
    "\n",
    "You may also choose one of the three non-personalized recommenders (below) we went over in class and describe the technique and which of the three you prefer to use.\n",
    "\n",
    "1. Metacritic:  How We Create the Metascore Magic\n",
    "2. Rotten Tomatoes: About Rotten Tomatoes\n",
    "3. IMDB: FAQ for IMDb Ratings\n",
    "Please complete the research discussion assignment in a Jupyter or R Markdown notebook. You should post the GitHub link to your research in a new discussion thread."
   ]
  },
  {
   "cell_type": "markdown",
   "metadata": {},
   "source": [
    "# My Choice - Netflix"
   ]
  },
  {
   "cell_type": "markdown",
   "metadata": {},
   "source": [
    "<figure>\n",
    "   <a href=\"https://github.com/forhadakbar/data612summer2020/blob/master/Discussion%2001/Netflix.JPG\">\n",
    "   <img src=\"https://github.com/forhadakbar/data612summer2020/blob/master/Discussion%2001/Netflix.JPG\"\n",
    "</figure>"
   ]
  },
  {
   "cell_type": "markdown",
   "metadata": {},
   "source": [
    "# Background\n",
    "Netflix is the world's leading streaming entertainment service with 183 million paid memberships in over 190 countries enjoying TV series, documentaries and feature films across a wide variety of genres and languages. Members can watch as much as they want, anytime, anywhere, on any internet-connected screen. Members can play, pause and resume watching, all without commercials or commitments.  "
   ]
  },
  {
   "cell_type": "markdown",
   "metadata": {},
   "source": [
    "# Netflix business and importance of it's recommender system\n",
    "Netflix has a subscription-based model. The more members Netflix has, the higher its revenue. Revenue can be seen as a function of three things:  \n",
    "\n",
    "1) Acquisition rate of new users  \n",
    "2) Cancellation rates  \n",
    "3) Rate at which former members rejoin  \n",
    "\n",
    "80% of stream time is achieved through Netflix’s recommender system, which is a highly impressive number. Moreover, Netflix believes in creating a user experience that will seek to improve retention rate, which in turn translates to savings on customer acquisition (estimated $1B per year as of 2016)."
   ]
  },
  {
   "cell_type": "markdown",
   "metadata": {},
   "source": [
    "# Netflix Recommender System\n",
    "Netflix uses a two-tiered row-based ranking system, where ranking happens:  \n",
    "\n",
    "1) Within each row (strongest recommendations on the left)  \n",
    "2) Across rows (strongest recommendations on top)\n",
    "\n",
    "Each row features a specefic theme (e.g. Top 10, Trending, Horror, etc), and is typically generated using one algorithm. Each user’s homepage consists of approximately 40 rows of up to 75 items, depending on the device the user is using."
   ]
  },
  {
   "cell_type": "markdown",
   "metadata": {},
   "source": [
    "![](img/Netflix_Recom.JPG)"
   ]
  },
  {
   "cell_type": "markdown",
   "metadata": {},
   "source": [
    "Netflix uses various rankers for their recommendation system. Here are some of them:\n",
    "\n",
    "### Personalised Video Ranking (PVR) \n",
    "This algorithm is a general-purpose one, which usually filters down the catalog by a certain criteria (e.g. Violent TV Programmes, US TV shows, Romance, etc), combined with side features including user features and popularity.\n"
   ]
  },
  {
   "cell_type": "markdown",
   "metadata": {},
   "source": [
    "### Top-N Video Ranker\n",
    "Similar to PVR except that it only looks at the top of the rankings and looks at the entire catalog. It is optimised using metrics that look at the top of the catalog rankings (e.g. Top 10 viewed)."
   ]
  },
  {
   "cell_type": "markdown",
   "metadata": {},
   "source": [
    "### Trending Now Ranker\n",
    "This algorithm captures temporal trends which Netflix deduces to be strong predictors. These short-term trends can range from a few minutes to a few days. These events/trends are typically:  \n",
    "1) Events that have a seasonal trend and repeat themselves (e.g. Valentines day leads to an uptick in Romance videos being consumed)  \n",
    "2) One-off, short term events (e.g. Coronavirus or other disasters, leading to short-term interest in documentaries about them)\n"
   ]
  },
  {
   "cell_type": "markdown",
   "metadata": {},
   "source": [
    "### Continue Watching Ranker \n",
    "This algorithm looks at items that the member has consumed but has not completed, typically:  \n",
    "1) Episodic content (e.g. drama series)  \n",
    "2) Non-episodic content that can be consumed in small bites (e.g. movies that are half-completed, series that are episode independent such as Black Mirror)  \n",
    "The algorithm calculates the probability of the member continue watching and includes other context-aware signals (e.g. time elapsed since viewing, point of abandonment, device watched on, etc)."
   ]
  },
  {
   "cell_type": "markdown",
   "metadata": {},
   "source": [
    "### Similarity Ranker (Because you watched)\n",
    "This algorithm basically resembles that of a content-based filtering algorithm. Based on an item consumed by the member, the algorithm computes other similar items (using an item-item similarity matrix) and returns the most similar items. Amongst the other algorithms, this one is unpersonalised as no other side features are utilised. However, it is personalised in the sense that it is a conscious choice to display a particular item’s similar items a member’s homepage."
   ]
  },
  {
   "cell_type": "markdown",
   "metadata": {},
   "source": [
    "### Page Generation  \n",
    "After the algorithms generate candidate rows (already ranked within each row vector), how does Netflix decide which of these 10,000s of rows to display?  \n",
    "\n",
    "Historically, Netflix has used a template-based approach to tackle this problem of page generation i.e. a massive blood bath of rows competing for precious screen real estate. It is a task focused on not only accuracy, but also providing diversity, accessibility and stability at the same time. Other considerations include hardware capabilities (what device is being used) and which rows/columns are visible at first glance and upon scroll.  \n",
    "\n",
    "This means that Netflix wants to accurately predict what users want to watch in that session, but not forgetting that he/she might want to pick up on videos that were left off halfway. At the same time, it wants to highlight the depth of its catalog by providing something fresh, and perhaps capture trends that are going on in the member’s region. Finally, stability is necessary when members have interacted with Netflix’s for awhile and are used to navigating the page in a certain manner.\n",
    "\n",
    "With all these requirements, one can see why a template-based approach can work quite well for a start because one can have a few fixed set of criterions to be met at all times. However, having many of such rules in place naturally landed Netflix into a local optimum in terms of providing a good member experience."
   ]
  },
  {
   "cell_type": "markdown",
   "metadata": {},
   "source": [
    "# Does the technique deliver a good experience or are the recommendations off-target?"
   ]
  },
  {
   "cell_type": "markdown",
   "metadata": {},
   "source": [
    "Netflix recommendation system provides a great user experience and it's on target most of the time.\n",
    "\n",
    "1) The row-based approach uses existing recommendation or learning-to-rank approaches to score each row and rank them based on those scores. This approach can be relatively fast but lacks diversity. A member might end up seeing a page full of rows that generally matches his/her interest, but row-wise might be very similar.  \n",
    "\n",
    "An improvement to the row-rise approach is to use a stage-wise approach, where each row is scored like the above method. However, rows are selected sequentially from the first, and whenever a row is selected, the next rows are recomputed to take into account its relationship to both the previous rows as well as the previous items already chosen for the page. This is a simple greedy stage-wise approach.\n",
    "We could improve this by using a k-row lookahead approach, where we consider the next k rows when computing the scoring for each row. However, neither of these approaches would obtain a global optimum.\n",
    "\n",
    "2) Cold-start Problem  \n",
    "The aged cold-start problem — Netflix has it too. Traditionally, Netflix tries to curb this by obtaining some user preference information by asking new members to fill up a survey to ‘jump start’ the recommendations. If this step is skipped, the recommendation engine will then provide a diverse and popular set of titles.  \n",
    "\n",
    "Also, recently during this Covid-19 period, Netflix Party (a Chrome extension) was created and in my opinion, this has massive effects on curbing this cold-start problem as this data is likely sent back to Netflix to analyse.\n",
    "\n",
    "3) A/B Testing  \n",
    "Netflix does thoroughly A/B test all their algorithm before deploying them to production. This ensure high performance of their recommendation system.\n"
   ]
  },
  {
   "cell_type": "markdown",
   "metadata": {},
   "source": [
    "# Attacks on Recommender System\n",
    "\n",
    "Read the article below and consider how to handle attacks on recommender systems. Can you think of a similar example where a collective effort to alter the workings of content recommendations have been successful? How would you design a system to prevent this kind of abuse?\n",
    "\n",
    "Travis M. Andrews, The Washington Post (2017): Wisdom of the crowd? IMDb users gang up on Christian Bale’s new movie before it even opens.\n",
    "\n",
    "Please make your post before our meetup on Thursday, and respond to at least one other student's posts by our meetup on Tuesday.\n",
    "\n"
   ]
  },
  {
   "cell_type": "markdown",
   "metadata": {},
   "source": [
    "### Introduction\n",
    "\n",
    "User review plays an important role in how we decide what movies to watch, products to buy, restaurants to go and even doctors to visit. In this day and age, it is really becoming difficult to differentiate fact and opinion. The ability to alter any crowdsourced review rating system is a obivous target for any malicious group. Most of the time manipulation happens as a result of internet trol, personal, political and corporate interest. This manipulation often happens in the\n",
    "form of artificial ratings and reviews, malicious user group intentionally encouraging it's user to give lower or higher ratings. This manipulation can degrade trust in these online review platforms and in their products and services.\n",
    "\n",
    "### Example  \n",
    "\n",
    "As examples, it describes similar attacks on films such as “Captain Marvel” and on books written by Hillary Clinton and Megyn Kelly.  \n",
    "\n",
    "Another blog about a small-business owner describes the sudden appearence of hundreds of one-star reviews and the difficulty of getting the social media site to remove them: https://www.forbes.com/sites/ryanerskine/2018/05/15/you-just-got-attacked-by-fake-1-star-reviews-now-what/#50bf9f391071\n",
    "\n",
    "Such attacks can either be the work of a direct competitor, a disgruntled ex-employee, or the collective followers of a prominent person, who may use social media influence to incite followers, as in the case of a Youtube prankster with millions of followers who was kicked out of a Florida hotel which feared that he would make prank videos during his stay:\n",
    "\n",
    "https://www.inc.com/chris-matyszczyk/this-5-star-hotel-got-police-to-help-it-kick-out-a-youtube-star-just-because-of-who-he-is.html\n",
    "\n",
    "\n",
    "\n",
    "\n"
   ]
  },
  {
   "cell_type": "markdown",
   "metadata": {},
   "source": [
    "# How would you design a system to prevent this kind of abuse?  \n",
    "Most review platforms have guidelines prohibiting reviews that don’t reflect true business transactions. While there are many automated method can be implemented to prevent abuse it is also important for review platform to have robust guidlines and strong support team to prevent abuse. For example, it was describe in forbes blog that some large Facebook advertiser have direct access to Facebook ad support while small business who doesn't advertise enough to get direct ad support in case of abuse no way of removing intentional bad reviews. One way for business to reduce the impact of such attack is to encourge it's happy customers to leave positive reviews. I would consider following while designing a sytem to prevent abuse\n",
    "\n",
    "- Require users to enter a “CAPTCHA” to prevent automated “bots” from spamming fake reviews. However, this may not prevent the entry of fake reviews via “click-farms” located overseas in low-cost regions, for which the cost is relatively inexpensive.\n",
    "- Flag reviews or ratings from recently opened user accounts on a single item over a very short period of time with no prior activity as suspicious  \n",
    "- User accounts whose collective ratings are extreme outliers when compared across the universe of users may be suspicious.  \n",
    "- Many reviews on a single item, entered over a very short period of time from the same (or, similar) IP addresses or from same region, may indicate that the user accounts are not independent  \n",
    "- Only allows verified purchasers of a product (e.g., Amazon) to submit a review or rating following a transaction prevents non-purchasing users from entering reviews. \n",
    "- A two-way rating system (where buyers and sellers rate each other) discourages  abuse.\n"
   ]
  },
  {
   "cell_type": "markdown",
   "metadata": {},
   "source": [
    "# Sources\n",
    "https://media.netflix.com/en/about-netflix  \n",
    "https://slideslive.com/38917692/recent-trends-in-personalization-a-netflix-perspective  \n",
    "https://netflixtechblog.com/its-all-a-bout-testing-the-netflix-experimentation-platform-4e1ca458c15  \n",
    "https://towardsdatascience.com/deep-dive-into-netflixs-recommender-system-341806ae3b48\n",
    "https://www.forbes.com/sites/ryanerskine/2018/05/15/you-just-got-attacked-by-fake-1-star-reviews-now-what/#50bf9f391071  \n",
    "https://www.inc.com/chris-matyszczyk/this-5-star-hotel-got-police-to-help-it-kick-out-a-youtube-star-just-because-of-who-he-is.html"
   ]
  }
 ],
 "metadata": {
  "kernelspec": {
   "display_name": "Python 3",
   "language": "python",
   "name": "python3"
  },
  "language_info": {
   "codemirror_mode": {
    "name": "ipython",
    "version": 3
   },
   "file_extension": ".py",
   "mimetype": "text/x-python",
   "name": "python",
   "nbconvert_exporter": "python",
   "pygments_lexer": "ipython3",
   "version": "3.7.6"
  }
 },
 "nbformat": 4,
 "nbformat_minor": 4
}
