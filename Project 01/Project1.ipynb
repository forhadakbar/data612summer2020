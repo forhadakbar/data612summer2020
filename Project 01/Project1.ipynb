{
 "cells": [
  {
   "cell_type": "markdown",
   "metadata": {},
   "source": [
    "# Assignment 01: Forhad Akbar. 06/08/2020\n",
    "# Business perspective of Recommender System\n",
    "This is a recommender system, which tries to predict preferences, according to the users' choices. Recommender systems are utilized in a variety of areas, including movies, music, books, research articles, seatch queries, social tags and any product."
   ]
  },
  {
   "cell_type": "markdown",
   "metadata": {},
   "source": [
    "# Importing required packages"
   ]
  },
  {
   "cell_type": "code",
   "execution_count": 1,
   "metadata": {},
   "outputs": [],
   "source": [
    "import sys\n",
    "import pandas as pd\n",
    "import numpy as np"
   ]
  },
  {
   "cell_type": "markdown",
   "metadata": {},
   "source": [
    "# Data Set Creation"
   ]
  },
  {
   "cell_type": "markdown",
   "metadata": {},
   "source": [
    "###### Movie Ratings Data Set Creation\n",
    "For this assignment, we need a movie data set. In order to mimic real data, we generated our random data set.\n",
    "It's a 16 x 7 Pandas data frame with movie ratings, randomly selected from the List numberList.\n",
    "Some may be rated as \"?\" (as it was in the instructions video https://www.youtube.com/playlist?list=PLuKhJYywjDe96T2L0-zXFU5Up2jqXlWI9), which means not rated. The data frame contains movies as heading, and users as index.\n",
    "\n",
    "After creating movie_ratings.csv, it was uploaded to git hub. Subsequently, the program will read it from github. So, although execution of this program is a one time task, inadvertent multiple executions will not mutilate the actual movie_ratings.csv that will be used."
   ]
  },
  {
   "cell_type": "code",
   "execution_count": 3,
   "metadata": {
    "scrolled": true
   },
   "outputs": [
    {
     "name": "stdout",
     "output_type": "stream",
     "text": [
      "\n",
      "    M01 M02 M03 M04 M05 M06 M07\n",
      "U01   5   2   4   2   1   3   2\n",
      "U02   3   1   1   ?   1   1   ?\n",
      "U03   ?   1   3   5   4   ?   ?\n",
      "U04   4   1   3   2   4   2   4\n",
      "U05   ?   5   ?   1   3   4   4\n",
      "U06   4   1   5   3   2   1   4\n",
      "U07   ?   3   2   5   ?   3   2\n",
      "U08   2   2   5   2   4   3   3\n",
      "U09   5   4   4   5   3   2   ?\n",
      "U10   4   3   1   3   2   5   1\n",
      "U11   2   4   ?   1   4   2   1\n",
      "U12   1   3   4   5   1   ?   ?\n",
      "U13   3   1   3   3   3   5   1\n",
      "U14   1   2   3   3   3   3   ?\n",
      "U15   1   3   1   4   3   1   5\n",
      "U16   2   3   4   3   1   5   ?\n"
     ]
    }
   ],
   "source": [
    "numberList = [\"?\", 1, 2, 3, 4, 5]\n",
    "np.random.seed(123)\n",
    "movie_ratings_df = pd.DataFrame(np.random.choice(numberList, size = (16, 7)),\n",
    "                  columns = list(['M01', 'M02', 'M03', 'M04', 'M05', 'M06', 'M07']),\n",
    "                  index = ['U01', 'U02', 'U03', 'U04', 'U05', 'U06', 'U07', 'U08', 'U09', 'U10', 'U11', 'U12', 'U13', 'U14', 'U15', 'U16'])\n",
    "#\n",
    "print()\n",
    "print(movie_ratings_df)\n",
    "movie_ratings_df.to_csv('./movie_ratings.csv')"
   ]
  },
  {
   "cell_type": "markdown",
   "metadata": {},
   "source": [
    "Right after creation, we uploaded movie_ratings.csv to github. In the following code block, we'll read and process from github."
   ]
  },
  {
   "cell_type": "markdown",
   "metadata": {},
   "source": [
    "###### Creating the Data Frame to contain Test Data\n",
    "Build up of movie_test_df, which will contain test data set. In the instructions YouTube video they did not split the given\n",
    "movie data set, but arbitrarily selected cells from the given movie data set. We'll also mimic the same procedure. So, we need to identify an arbitrary set of cell locations as test data cells. In order to achieve that, I created a data frame movie_test_df, having the dimensions of movie_ratings_df, but filled with random **True** and **False** values, with a 25% probability of **True-cells**.\n",
    "\n",
    "We'll move elements from movie_ratings_df to only **True-cells** of movie_test_df (including \"?\"). Rest of the data in movie_ratings_df will go to the train data set, called movie_train_df. In the train data set, we'll mark the cells that went to movie_test_df with \"-\", to distinguish from the pre-existing \"?\". The movie_ratings_df data will be split into movie_train_df and movie_test_df, on a 75/25 basis.\n",
    "\n",
    "After creation, movie_test_df.csv was uploaded to git hub. Subsequnetly, the program will read it from github."
   ]
  },
  {
   "cell_type": "code",
   "execution_count": 4,
   "metadata": {},
   "outputs": [
    {
     "name": "stdout",
     "output_type": "stream",
     "text": [
      "\n",
      "       M01    M02    M03    M04    M05    M06    M07\n",
      "U01  False  False  False  False   True  False  False\n",
      "U02   True  False  False  False  False   True  False\n",
      "U03  False  False   True  False   True   True  False\n",
      "U04  False  False  False  False   True  False   True\n",
      "U05  False  False   True  False  False  False  False\n",
      "U06  False  False  False   True  False  False  False\n",
      "U07  False  False  False  False  False  False  False\n",
      "U08  False  False  False  False  False  False  False\n",
      "U09   True  False  False  False   True   True  False\n",
      "U10  False   True   True  False   True   True   True\n",
      "U11  False  False  False  False  False  False  False\n",
      "U12  False  False  False   True  False  False  False\n",
      "U13   True   True  False  False  False  False  False\n",
      "U14   True   True   True  False  False  False   True\n",
      "U15  False  False   True  False  False   True  False\n",
      "U16  False  False  False  False  False  False  False\n"
     ]
    }
   ],
   "source": [
    "rows, columns = movie_ratings_df.shape\n",
    "probability = 0.25    # setting probability for selecting Test data set at 25% of train data set.\n",
    "movie_test_df = pd.DataFrame(np.random.choice(a = [True, False], size = (rows, columns), p = [probability, 1 - probability]),\n",
    "                             columns = list(movie_ratings_df.columns.values),\n",
    "                             index = list(movie_ratings_df.index.values))\n",
    "#\n",
    "print()\n",
    "print(movie_test_df)\n",
    "movie_test_df.to_csv('./movie_test_df.csv')"
   ]
  },
  {
   "cell_type": "markdown",
   "metadata": {},
   "source": [
    "# Reading movie_ratings.csv from github\n",
    "Here, we are reading movie_ratings.csv, which was a randomly generated in an earlier step. We'll split this into\n",
    "train and test data sets. Since, we do not know how the actual data will look like, we used \"?\" for null entries, for the highest generality, and also for being close to the instruction YouTube video (https://www.youtube.com/playlist?list=PLuKhJYywjDe96T2L0-zXFU5Up2jqXlWI9). Our goal is to assume minimum advantage, and tackle the complexity in the program."
   ]
  },
  {
   "cell_type": "code",
   "execution_count": 2,
   "metadata": {},
   "outputs": [
    {
     "name": "stdout",
     "output_type": "stream",
     "text": [
      "\n",
      "Given data set: movie_ratings_df\n",
      "    M01  M02 M03 M04 M05 M06 M07\n",
      "U01   5    2   4   2   1   3   2\n",
      "U02   3    1   1   ?   1   1   ?\n",
      "U03   ?    1   3   5   4   ?   ?\n",
      "U04   4    1   3   2   4   2   4\n",
      "U05   ?    5   ?   1   3   4   4\n",
      "U06   4    1   5   3   2   1   4\n",
      "U07   ?    3   2   5   ?   3   2\n",
      "U08   2    2   5   2   4   3   3\n",
      "U09   5    4   4   5   3   2   ?\n",
      "U10   4    3   1   3   2   5   1\n",
      "U11   2    4   ?   1   4   2   1\n",
      "U12   1    3   4   5   1   ?   ?\n",
      "U13   3    1   3   3   3   5   1\n",
      "U14   1    2   3   3   3   3   ?\n",
      "U15   1    3   1   4   3   1   5\n",
      "U16   2    3   4   3   1   5   ?\n"
     ]
    }
   ],
   "source": [
    "url = \"https://raw.githubusercontent.com/forhadakbar/data612summer2020/master/Project%2001/movie_ratings.csv\"\n",
    "movie_ratings_df = pd.read_csv(url, index_col = 0)\n",
    "#\n",
    "rows, columns = movie_ratings_df.shape\n",
    "#\n",
    "print()\n",
    "print(\"Given data set: movie_ratings_df\")\n",
    "print(movie_ratings_df)"
   ]
  },
  {
   "cell_type": "markdown",
   "metadata": {},
   "source": [
    "# Reading movie_ratings.csv from github\n",
    "Here, we are reading movie_ratings.csv, which was a randomly generated by another program create_movie_ratings.py. It's a 16 x 7 data frame, populated by True and False values, at 25/75 ratio. Elements from movie_ratings_df will populate only the True-cells of movie_test_df, including \"?\" (as was in the instructions video)."
   ]
  },
  {
   "cell_type": "code",
   "execution_count": 3,
   "metadata": {},
   "outputs": [
    {
     "name": "stdout",
     "output_type": "stream",
     "text": [
      "\n",
      "Starter data set: movie_test_df\n",
      "       M01    M02    M03    M04    M05    M06    M07\n",
      "U01  False  False  False  False   True  False  False\n",
      "U02   True  False  False  False  False   True  False\n",
      "U03  False  False   True  False   True   True  False\n",
      "U04  False  False  False  False   True  False   True\n",
      "U05  False  False   True  False  False  False  False\n",
      "U06  False  False  False   True  False  False  False\n",
      "U07  False  False  False  False  False  False  False\n",
      "U08  False  False  False  False  False  False  False\n",
      "U09   True  False  False  False   True   True  False\n",
      "U10  False   True   True  False   True   True   True\n",
      "U11  False  False  False  False  False  False  False\n",
      "U12  False  False  False   True  False  False  False\n",
      "U13   True   True  False  False  False  False  False\n",
      "U14   True   True   True  False  False  False   True\n",
      "U15  False  False   True  False  False   True  False\n",
      "U16  False  False  False  False  False  False  False\n"
     ]
    }
   ],
   "source": [
    "url_test = \"https://raw.githubusercontent.com/forhadakbar/data612summer2020/master/Project%2001/movie_test_df.csv\"\n",
    "movie_test_df = pd.read_csv(url_test, index_col = 0) # from github\n",
    "#\n",
    "print()\n",
    "print(\"Starter data set: movie_test_df\")\n",
    "print(movie_test_df)"
   ]
  },
  {
   "cell_type": "markdown",
   "metadata": {},
   "source": [
    "# Build up of movie_train_df.\n",
    "\n",
    "This will contain train data set. The starter movie_train_df, is just a copy of the given movie_ratings_df. We'll populate this with 75% of the original data in movie_ratings_df."
   ]
  },
  {
   "cell_type": "code",
   "execution_count": 4,
   "metadata": {},
   "outputs": [
    {
     "name": "stdout",
     "output_type": "stream",
     "text": [
      "\n",
      "Starter data set: movie_train_df\n",
      "    M01  M02 M03 M04 M05 M06 M07\n",
      "U01   5    2   4   2   1   3   2\n",
      "U02   3    1   1   ?   1   1   ?\n",
      "U03   ?    1   3   5   4   ?   ?\n",
      "U04   4    1   3   2   4   2   4\n",
      "U05   ?    5   ?   1   3   4   4\n",
      "U06   4    1   5   3   2   1   4\n",
      "U07   ?    3   2   5   ?   3   2\n",
      "U08   2    2   5   2   4   3   3\n",
      "U09   5    4   4   5   3   2   ?\n",
      "U10   4    3   1   3   2   5   1\n",
      "U11   2    4   ?   1   4   2   1\n",
      "U12   1    3   4   5   1   ?   ?\n",
      "U13   3    1   3   3   3   5   1\n",
      "U14   1    2   3   3   3   3   ?\n",
      "U15   1    3   1   4   3   1   5\n",
      "U16   2    3   4   3   1   5   ?\n"
     ]
    }
   ],
   "source": [
    "movie_train_df = movie_ratings_df.copy()\n",
    "print()\n",
    "print(\"Starter data set: movie_train_df\")\n",
    "print(movie_train_df)"
   ]
  },
  {
   "cell_type": "markdown",
   "metadata": {},
   "source": [
    "At this point we have all the data sets we need. Now, we'll split movie ratings into train and test datasets.\n",
    "\n",
    "Now, we'll build up movie_train_df and movie_test_df, with actual values from movie_ratings_df. Since our goal is to reduce ON-values of a program, we built up raw_average_train (average of the train data set), raw_count_train (number of actual numeric ratings in train) and raw_count_test (number of actual numeric ratings in test) in the same loop.\n",
    "\n",
    "Since memory is expensive, we did not expend a separate variable, but added the movie ratings to raw_average_train."
   ]
  },
  {
   "cell_type": "code",
   "execution_count": 5,
   "metadata": {},
   "outputs": [
    {
     "name": "stdout",
     "output_type": "stream",
     "text": [
      "\n",
      "Populated data set: movie_test_df\n",
      "       M01    M02    M03    M04    M05    M06    M07\n",
      "U01  False  False  False  False      1  False  False\n",
      "U02      3  False  False  False  False      1  False\n",
      "U03  False  False      3  False      4      ?  False\n",
      "U04  False  False  False  False      4  False      4\n",
      "U05  False  False      ?  False  False  False  False\n",
      "U06  False  False  False      3  False  False  False\n",
      "U07  False  False  False  False  False  False  False\n",
      "U08  False  False  False  False  False  False  False\n",
      "U09      5  False  False  False      3      2  False\n",
      "U10  False      3      1  False      2      5      1\n",
      "U11  False  False  False  False  False  False  False\n",
      "U12  False  False  False      5  False  False  False\n",
      "U13      3      1  False  False  False  False  False\n",
      "U14      1      2      3  False  False  False      ?\n",
      "U15  False  False      1  False  False      1  False\n",
      "U16  False  False  False  False  False  False  False\n",
      "\n",
      "Populated data set: movie_train_df\n",
      "    M01 M02 M03 M04 M05 M06 M07\n",
      "U01   5   2   4   2   -   3   2\n",
      "U02   -   1   1   ?   1   -   ?\n",
      "U03   ?   1   -   5   -   ?   ?\n",
      "U04   4   1   3   2   -   2   -\n",
      "U05   ?   5   ?   1   3   4   4\n",
      "U06   4   1   5   -   2   1   4\n",
      "U07   ?   3   2   5   ?   3   2\n",
      "U08   2   2   5   2   4   3   3\n",
      "U09   -   4   4   5   -   -   ?\n",
      "U10   4   -   -   3   -   -   -\n",
      "U11   2   4   ?   1   4   2   1\n",
      "U12   1   3   4   -   1   ?   ?\n",
      "U13   -   -   3   3   3   5   1\n",
      "U14   -   -   -   3   3   3   ?\n",
      "U15   1   3   -   4   3   -   5\n",
      "U16   2   3   4   3   1   5   ?\n"
     ]
    }
   ],
   "source": [
    "raw_average_train = 0\n",
    "raw_count_train = 0\n",
    "raw_count_test = 0\n",
    "#\n",
    "for row in range(0, rows):\n",
    "    for col in range(0, columns):\n",
    "        if movie_ratings_df.iloc[row, col] == \"?\":\n",
    "            if movie_test_df.iloc[row, col]:\n",
    "                movie_test_df.iloc[row, col] = movie_ratings_df.iloc[row, col]\n",
    "        else:\n",
    "            if movie_test_df.iloc[row, col]:\n",
    "                movie_test_df.iloc[row, col] = movie_ratings_df.iloc[row, col]\n",
    "                movie_train_df.iloc[row, col] = \"-\"\n",
    "                raw_count_test = raw_count_test + 1\n",
    "            else:\n",
    "                raw_average_train = raw_average_train + float(movie_ratings_df.iloc[row, col])\n",
    "                raw_count_train = raw_count_train + 1\n",
    "#\n",
    "print()\n",
    "print(\"Populated data set: movie_test_df\")\n",
    "print(movie_test_df)\n",
    "#\n",
    "print()\n",
    "print(\"Populated data set: movie_train_df\")\n",
    "print(movie_train_df)"
   ]
  },
  {
   "cell_type": "markdown",
   "metadata": {},
   "source": [
    "# Computation of raw_average_train"
   ]
  },
  {
   "cell_type": "code",
   "execution_count": 6,
   "metadata": {
    "scrolled": true
   },
   "outputs": [
    {
     "name": "stdout",
     "output_type": "stream",
     "text": [
      "\n",
      "raw_average_train =  2.88\n",
      "raw_count_train   =  73\n",
      "raw_count_test    =  24\n"
     ]
    }
   ],
   "source": [
    "try:\n",
    "    raw_average_train = raw_average_train / raw_count_train\n",
    "except ZeroDivisionError as err:\n",
    "    sys.exit(\"movie_ratings.csv doesn't have any numeric ratings, exiting program....\")\n",
    "#\n",
    "print()\n",
    "print(\"raw_average_train = \", round(raw_average_train, 2))\n",
    "print(\"raw_count_train   = \", round(raw_count_train, 2))\n",
    "print(\"raw_count_test    = \", raw_count_test)"
   ]
  },
  {
   "cell_type": "markdown",
   "metadata": {},
   "source": [
    "# Computation of RMSE for movie_train_df and movie_test_df\n",
    "We'll use raw_average_train, raw_count_train and raw_count_test for the below computations.\n",
    "\n",
    "As stated before, we like to reduce the ON-values of a program, so we'll compute the user and movie biases in the same loop.\n",
    "In order to contain the biases and some related computational values, we created two data frames: user_bias_df and movie_bias_df."
   ]
  },
  {
   "cell_type": "code",
   "execution_count": 7,
   "metadata": {
    "scrolled": false
   },
   "outputs": [],
   "source": [
    "user_bias_df = pd.DataFrame(np.zeros((rows, 2)), columns = [\"User bias\", \"Count\"], index = list(movie_ratings_df.index.values))\n",
    "movie_bias_df = pd.DataFrame(np.zeros((2, columns)), columns = list(movie_ratings_df.columns.values), index = [\"Movie rating\", \"Count\"])\n",
    "#\n",
    "rmse_train = 0\n",
    "rmse_test = 0\n",
    "#\n",
    "for row in range(0, rows):\n",
    "    for col in range(0, columns):\n",
    "        if movie_train_df.iloc[row, col] != \"?\" and movie_train_df.iloc[row, col] != \"-\":\n",
    "            rmse_train = rmse_train + (float(movie_train_df.iloc[row, col]) - raw_average_train) ** 2\n",
    "            user_bias_df.iloc[row, 0] = user_bias_df.iloc[row, 0] + float(movie_ratings_df.iloc[row, col])\n",
    "            user_bias_df.iloc[row, 1] = user_bias_df.iloc[row, 1] + 1\n",
    "            movie_bias_df.iloc[0, col] = movie_bias_df.iloc[0, col] + float(movie_ratings_df.iloc[row, col])\n",
    "            movie_bias_df.iloc[1, col] = movie_bias_df.iloc[1, col] + 1\n",
    "        if movie_test_df.iloc[row, col] and movie_test_df.iloc[row, col] != \"?\":\n",
    "            rmse_test = rmse_test + (float(movie_test_df.iloc[row, col]) - raw_average_train) ** 2"
   ]
  },
  {
   "cell_type": "markdown",
   "metadata": {},
   "source": [
    "###### Final computation of RMSE"
   ]
  },
  {
   "cell_type": "code",
   "execution_count": 8,
   "metadata": {},
   "outputs": [
    {
     "name": "stdout",
     "output_type": "stream",
     "text": [
      "\n",
      "rmse_train =  1.32\n",
      "rmse_test =  1.41\n"
     ]
    }
   ],
   "source": [
    "rmse_train = rmse_train / raw_count_train\n",
    "rmse_train = np.math.sqrt(rmse_train)\n",
    "#\n",
    "rmse_test = rmse_test / raw_count_test\n",
    "rmse_test = np.math.sqrt(rmse_test)\n",
    "#\n",
    "print()\n",
    "print(\"rmse_train = \", round(rmse_train, 2))\n",
    "print(\"rmse_test = \", round(rmse_test, 2))"
   ]
  },
  {
   "cell_type": "markdown",
   "metadata": {},
   "source": [
    "# Computations of user and movie biases"
   ]
  },
  {
   "cell_type": "code",
   "execution_count": 9,
   "metadata": {},
   "outputs": [
    {
     "name": "stdout",
     "output_type": "stream",
     "text": [
      "\n",
      "Populated data set: user_bias_df\n",
      "U01    0.12\n",
      "U02   -1.88\n",
      "U03    0.12\n",
      "U04   -0.48\n",
      "U05    0.52\n",
      "U06   -0.04\n",
      "U07    0.12\n",
      "U08    0.12\n",
      "U09    1.46\n",
      "U10    0.62\n",
      "U11   -0.54\n",
      "U12   -0.63\n",
      "U13    0.12\n",
      "U14    0.12\n",
      "U15    0.32\n",
      "U16    0.12\n",
      "Name: User bias, dtype: float64\n",
      "\n",
      "Populated data set: movie_bias_df\n",
      "M01   -0.10\n",
      "M02   -0.34\n",
      "M03    0.62\n",
      "M04    0.12\n",
      "M05   -0.38\n",
      "M06    0.22\n",
      "M07   -0.13\n",
      "Name: Movie rating, dtype: float64\n"
     ]
    }
   ],
   "source": [
    "user_bias_df[\"User bias\"] = user_bias_df[\"User bias\"] / user_bias_df[\"Count\"] - raw_average_train\n",
    "movie_bias_df.loc[\"Movie rating\"] = movie_bias_df.loc[\"Movie rating\"] / movie_bias_df.loc[\"Count\"] - raw_average_train\n",
    "#\n",
    "print()\n",
    "print(\"Populated data set: user_bias_df\")\n",
    "print(round(user_bias_df[\"User bias\"], 2))\n",
    "#\n",
    "print()\n",
    "print(\"Populated data set: movie_bias_df\")\n",
    "print(round(movie_bias_df.loc[\"Movie rating\"], 2))"
   ]
  },
  {
   "cell_type": "markdown",
   "metadata": {},
   "source": [
    "# Creating Baseline Predictors\n",
    "Initially we created an empty data frame, called baseline_predictors_df, populated with raw_average_train in every cell. In baseline_predictors_df, we'll add the raw_average_train (placed in every cell) with user bias and movie bias."
   ]
  },
  {
   "cell_type": "code",
   "execution_count": 10,
   "metadata": {},
   "outputs": [
    {
     "name": "stdout",
     "output_type": "stream",
     "text": [
      "\n",
      "baseline_predictors_df\n",
      "      M01   M02   M03   M04   M05   M06   M07\n",
      "U01  2.90  2.66  3.62  3.12  2.62  3.22  2.87\n",
      "U02  1.00  1.00  1.62  1.12  1.00  1.22  1.00\n",
      "U03  2.90  2.66  3.62  3.12  2.62  3.22  2.87\n",
      "U04  2.30  2.06  3.02  2.52  2.02  2.62  2.27\n",
      "U05  3.30  3.06  4.02  3.52  3.02  3.62  3.27\n",
      "U06  2.73  2.50  3.46  2.96  2.46  3.06  2.71\n",
      "U07  2.90  2.66  3.62  3.12  2.62  3.22  2.87\n",
      "U08  2.90  2.66  3.62  3.12  2.62  3.22  2.87\n",
      "U09  4.23  4.00  4.96  4.46  3.96  4.56  4.21\n",
      "U10  3.40  3.16  4.12  3.62  3.12  3.72  3.37\n",
      "U11  2.23  2.00  2.96  2.46  1.96  2.56  2.21\n",
      "U12  2.15  1.91  2.87  2.37  1.87  2.47  2.12\n",
      "U13  2.90  2.66  3.62  3.12  2.62  3.22  2.87\n",
      "U14  2.90  2.66  3.62  3.12  2.62  3.22  2.87\n",
      "U15  3.10  2.86  3.82  3.32  2.82  3.42  3.07\n",
      "U16  2.90  2.66  3.62  3.12  2.62  3.22  2.87\n"
     ]
    }
   ],
   "source": [
    "baseline_predictors_df = pd.DataFrame(np.full((rows, columns), raw_average_train),\n",
    "                  columns = list(movie_ratings_df.columns.values),\n",
    "                  index = list(movie_ratings_df.index.values))\n",
    "#\n",
    "for row in range(0, rows):\n",
    "    for col in range(0, columns):\n",
    "        baseline_predictors_df.iloc[row, col] = baseline_predictors_df.iloc[row, col] + user_bias_df.iloc[row, 0] + movie_bias_df.iloc[0, col]\n",
    "        if baseline_predictors_df.iloc[row, col] > 5:\n",
    "            baseline_predictors_df.iloc[row, col] = 5\n",
    "        elif baseline_predictors_df.iloc[row, col] < 1:\n",
    "            baseline_predictors_df.iloc[row, col] = 1\n",
    "#\n",
    "print()\n",
    "print(\"baseline_predictors_df\")\n",
    "print(round(baseline_predictors_df, 2))"
   ]
  },
  {
   "cell_type": "markdown",
   "metadata": {},
   "source": [
    "# Computation of RMSE with respect to Baseline Predictors, for movie_train_df and movie_test_df"
   ]
  },
  {
   "cell_type": "code",
   "execution_count": 11,
   "metadata": {},
   "outputs": [
    {
     "name": "stdout",
     "output_type": "stream",
     "text": [
      "\n",
      "baseline_rmse_train =  1.15\n",
      "baseline_rmse_test =  1.71\n"
     ]
    }
   ],
   "source": [
    "baseline_rmse_train = 0\n",
    "baseline_rmse_train_count = 0\n",
    "#\n",
    "baseline_rmse_test = 0\n",
    "baseline_rmse_test_count = 0\n",
    "#\n",
    "for row in range(0, rows):\n",
    "    for col in range(0, columns):\n",
    "        if movie_train_df.iloc[row, col] != \"?\":\n",
    "                if movie_train_df.iloc[row, col] != \"-\":\n",
    "                    baseline_rmse_train = baseline_rmse_train + ( float(movie_train_df.iloc[row, col]) - float(baseline_predictors_df.iloc[row, col]) ) ** 2\n",
    "                    baseline_rmse_train_count = baseline_rmse_train_count + 1\n",
    "                else:\n",
    "                    baseline_rmse_test = baseline_rmse_test + ( float(movie_test_df.iloc[row, col]) - float(baseline_predictors_df.iloc[row, col]) ) ** 2\n",
    "                    baseline_rmse_test_count = baseline_rmse_test_count + 1\n",
    "#\n",
    "baseline_rmse_train = baseline_rmse_train / baseline_rmse_train_count\n",
    "baseline_rmse_train = np.math.sqrt(baseline_rmse_train)\n",
    "#\n",
    "baseline_rmse_test = baseline_rmse_test / baseline_rmse_test_count\n",
    "baseline_rmse_test = np.math.sqrt(baseline_rmse_test)\n",
    "#\n",
    "print()\n",
    "print(\"baseline_rmse_train = \", round(baseline_rmse_train, 2))\n",
    "print(\"baseline_rmse_test = \", round(baseline_rmse_test, 2))"
   ]
  },
  {
   "cell_type": "markdown",
   "metadata": {},
   "source": [
    "So, the percentage difference between rmse_train and baseline_rmse_train, and rmse_test and baseline_rmse_test are:\n",
    "(rmse_train - baseline_rmse_train) / rmse_train and (rmse_test - baseline_rmse_train) / rmse_test respectively.\n",
    "We'll compute the differentials below:"
   ]
  },
  {
   "cell_type": "code",
   "execution_count": 12,
   "metadata": {},
   "outputs": [
    {
     "name": "stdout",
     "output_type": "stream",
     "text": [
      "\n",
      "train_differential =  13.11 %\n",
      "test_differential =  18.59 %\n"
     ]
    }
   ],
   "source": [
    "train_differential = ( (rmse_train - baseline_rmse_train) / rmse_train ) * 100\n",
    "rmse_differential = ( (rmse_test - baseline_rmse_train) / rmse_test ) * 100\n",
    "#\n",
    "print()\n",
    "print(\"train_differential = \", round(train_differential, 2), \"%\")\n",
    "print(\"test_differential = \", round(rmse_differential, 2), \"%\")"
   ]
  },
  {
   "cell_type": "markdown",
   "metadata": {},
   "source": [
    "# Summary:\n",
    "\n",
    "**1) We read the movies data set and split them cells on 25% (test) and 75% (train) basis.**  \n",
    "**2) Computed raw_average_train i.e. \"Raw Average\".**  \n",
    "**3) Computed RMSE, for train and test data sets. Used Raw Average, for the computation.**  \n",
    "**4) Computed User and Movie biases.**  \n",
    "**5) Computed the Baseline Predictor matrix.**  \n",
    "**6) Computed RMSE with respect to Baseline Predictor, for train and test data sets.**  \n",
    "**7) Checked the improvement of the RMSE.**  \n",
    "\n",
    "### Comment: \n",
    "**We did not split the movie data set, using Python's own splitting function, because it splits the data frame by entire rows or columns, not cells. Based on the instruction video, we selected arbitrary cells.**"
   ]
  }
 ],
 "metadata": {
  "kernelspec": {
   "display_name": "Python 3",
   "language": "python",
   "name": "python3"
  },
  "language_info": {
   "codemirror_mode": {
    "name": "ipython",
    "version": 3
   },
   "file_extension": ".py",
   "mimetype": "text/x-python",
   "name": "python",
   "nbconvert_exporter": "python",
   "pygments_lexer": "ipython3",
   "version": "3.7.6"
  }
 },
 "nbformat": 4,
 "nbformat_minor": 2
}
